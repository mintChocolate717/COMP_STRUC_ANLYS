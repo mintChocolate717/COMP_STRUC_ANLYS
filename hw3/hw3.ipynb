{
 "cells": [
  {
   "cell_type": "markdown",
   "metadata": {},
   "source": [
    "# COE 321K - Homework 3: Computational Truss Analysis\n",
    "Here, we go thru a detailed process of deriving a Python script that will calculate the \n",
    "- nodal displacements\n",
    "- bar forces,\n",
    "- external nodal forces\n",
    "\n",
    "for an arbitrary two- or three-dimensional truss structure.\n",
    "\n",
    "We will eventually combine all the code into a single source code file.\n",
    "\n",
    "## Pre-processing: Truss Code Inputs & Data Structures, Stiffness & Force Assembly.\n",
    "\n",
    "**General Definitions**\n",
    "- **`num_dims`**: Number of spatial dimensions  \n",
    "- **`num_nodes`**: Number of nodes  \n",
    "- **`node(i, j)`**: $x_j$ position of the $i^{\\text{th}}$ node (the $j^{\\text{th}}$ spatial coordinate of the $i^{\\text{th}}$ node)  \n",
    "- **`dof_per_node`**: Number of degrees of freedom (DOFs) per node  \n",
    "- **`gcon(i, j)`**: Global degree of freedom number of node $i$, local DOF $j$  \n",
    "- **`total_num_dofs`**: Total number of DOFs in the structure  \n",
    "\n",
    "**Element-Specific Definitions**\n",
    "- **`num_elements`**: Number of elements  \n",
    "- **`element_nodes(i, j)`**: Global node number of the $j^{\\text{th}}$ local node of element $i$  \n",
    "- **`E(i)`**: Young's modulus for element $i$ (in Pascals, $Pa$)  \n",
    "- **`A(i)`**: Cross-sectional area of element $i$ (in square meters, $m^2$)  \n",
    "- **`L(i)`**: Length of element $i$ (in meters, $m$)  \n",
    "- **`element_cosines(i, j)`**: Direction cosine between element $i$ from local node 1 to local node 2, relative to the $x_j$-axis  \n",
    "\n",
    "**Boundary Conditions (BCs)**\n",
    "- **`num_force_BCs`**: Number of non-zero force boundary conditions  \n",
    "\n",
    "**Force Boundary Conditions**\n",
    "- **`force_node(i)`**: Node number for force BC $i$  \n",
    "- **`force_dof(i)`**: Local DOF number for force BC $i$  \n",
    "- **`force_value(i)`**: Force value for force BC $i$ (in Newtons, $N$)  \n",
    "\n",
    "**Displacement Boundary Conditions**\n",
    "- **`disp_node(i)`**: Node number for the $i^{\\text{th}}$ displacement BC  \n",
    "- **`disp_dof(i)`**: Node DOF number for the $i^{\\text{th}}$ displacement BC  \n",
    "- **`disp_value(i)`**: Node displacement value for the $i^{\\text{th}}$ displacement BC (in meters, $m$)  \n",
    "---"
   ]
  },
  {
   "cell_type": "code",
   "execution_count": 50,
   "metadata": {},
   "outputs": [],
   "source": [
    "import numpy as np\n",
    "import pandas as pd\n",
    "from pprint import pprint\n",
    "from typing import List, Dict, Tuple"
   ]
  },
  {
   "cell_type": "markdown",
   "metadata": {},
   "source": [
    "### \"Nodes\" File\n",
    "We will build a function that reads the nodes file and then retur 1-based-indexed nodes matrix, number of nodes, and number of dimensions."
   ]
  },
  {
   "cell_type": "code",
   "execution_count": 85,
   "metadata": {},
   "outputs": [
    {
     "name": "stdout",
     "output_type": "stream",
     "text": [
      "Number of Nodes: 4\n",
      "Number of dims: 2\n",
      "dof per node:2\n",
      "total dofs:8\n",
      "\n",
      "node matrix:\n",
      "array([[nan, nan, nan],\n",
      "       [ 1.,  0.,  0.],\n",
      "       [ 2.,  1.,  0.],\n",
      "       [ 3.,  0.,  1.],\n",
      "       [ 4.,  1.,  1.]])\n"
     ]
    }
   ],
   "source": [
    "def read_nodes_file(filepath: str = 'inputs/nodes') -> Tuple[np.ndarray, int, int]:\n",
    "   # Read the first two lines manually\n",
    "    with open(filepath, 'r') as file:\n",
    "        num_dims = int(file.readline().strip())\n",
    "        num_nodes = int(file.readline().strip())\n",
    "    # Read the rest of the file (starting from the third line)\n",
    "    node_file = pd.read_csv(filepath, sep=r'\\s+', header=None, skiprows=2)\n",
    "    # Convert to numpy array\n",
    "    nodes = node_file.to_numpy()\n",
    "    # Add an extra row to accommodate 1-based indexing\n",
    "    padded_nodes = np.pad(nodes, ((1,0), (0,0)), 'constant', constant_values=np.nan)\n",
    "\n",
    "    return padded_nodes, num_nodes, num_dims\n",
    "\n",
    "# Call the function to get node mx, num_nodes, and num_dims\n",
    "node, num_nodes, num_dims = read_nodes_file(filepath='test_cases_2d/nodes')\n",
    "\n",
    "# compute dof per node\n",
    "dof_per_node = num_dims # for Truss only\n",
    "# total number of DOFs in a structure\n",
    "total_num_dofs = (len(node) - 1) * dof_per_node\n",
    "\n",
    "print(f\"Number of Nodes: {num_nodes}\\nNumber of dims: {num_dims}\\ndof per node:{dof_per_node}\\ntotal dofs:{total_num_dofs}\")\n",
    "print(\"\\nnode matrix:\")\n",
    "pprint(node)"
   ]
  },
  {
   "cell_type": "markdown",
   "metadata": {},
   "source": [
    "Now we will go ahead and build our **$gcon(i, j)$**\n",
    "\n",
    "#### Build $gcon(i,j)$"
   ]
  },
  {
   "cell_type": "code",
   "execution_count": 52,
   "metadata": {},
   "outputs": [
    {
     "name": "stdout",
     "output_type": "stream",
     "text": [
      "gcon matrix:\n",
      "array([[0, 0, 0],\n",
      "       [0, 1, 2],\n",
      "       [0, 3, 4],\n",
      "       [0, 5, 6],\n",
      "       [0, 7, 8]])\n"
     ]
    }
   ],
   "source": [
    "def build_global_connectivity(node_mx: np.ndarray, dof_per_node) -> np.ndarray:\n",
    "    global_connectivity = np.zeros_like(node_mx, dtype=int)\n",
    "    # form gcon data structure\n",
    "    for node_num in range(1, len(node_mx)): # iterate thru all nodes\n",
    "        for local_dof in range(1, dof_per_node + 1): # iterate thru all dof components\n",
    "            # assign global DOF to each element:\n",
    "            global_connectivity[node_num, local_dof] = dof_per_node * (node_num - 1) + local_dof\n",
    "    \n",
    "    return global_connectivity\n",
    "\n",
    "global_connectivity = build_global_connectivity(node, dof_per_node)\n",
    "\n",
    "print(\"gcon matrix:\")\n",
    "pprint(global_connectivity)\n"
   ]
  },
  {
   "cell_type": "markdown",
   "metadata": {},
   "source": [
    "### \"Element\"file"
   ]
  },
  {
   "cell_type": "code",
   "execution_count": 86,
   "metadata": {},
   "outputs": [
    {
     "name": "stdout",
     "output_type": "stream",
     "text": [
      "number of elements: 6\n",
      "elements matrix:\n",
      "array([[nan, nan, nan, nan, nan],\n",
      "       [ 1.,  1.,  2.,  1.,  1.],\n",
      "       [ 2.,  1.,  3.,  1.,  1.],\n",
      "       [ 3.,  1.,  4.,  1.,  1.],\n",
      "       [ 4.,  2.,  3.,  1.,  1.],\n",
      "       [ 5.,  2.,  4.,  1.,  1.],\n",
      "       [ 6.,  3.,  4.,  1.,  1.]])\n"
     ]
    }
   ],
   "source": [
    "def read_elements_file(filepath: str = 'inputs/elements') -> Tuple[np.ndarray, int]:\n",
    "   # Read the first linee manually\n",
    "    with open(filepath, 'r') as file:\n",
    "        num_elements = int(file.readline().strip())\n",
    "    # Read the rest of the file (starting from the third line)\n",
    "    element_file = pd.read_csv(filepath, sep=r'\\s+', header=None, skiprows=1)\n",
    "    # Convert to numpy array\n",
    "    elements = element_file.to_numpy()\n",
    "    # Add an extra row to accommodate 1-based indexing\n",
    "    padded_elements = np.pad(elements, ((1,0),(0,0)), 'constant', constant_values=np.nan)\n",
    "\n",
    "    return padded_elements, num_elements\n",
    "\n",
    "element, num_elements = read_elements_file('test_cases_2d/elements')\n",
    "\n",
    "print(f\"number of elements: {num_elements}\")\n",
    "print(\"elements matrix:\")\n",
    "pprint(element)"
   ]
  },
  {
   "cell_type": "markdown",
   "metadata": {},
   "source": [
    "#### Compute Lengths ($L(i)$) and Direction cosines, $element\\ cosines(i,j)$."
   ]
  },
  {
   "cell_type": "code",
   "execution_count": 87,
   "metadata": {},
   "outputs": [
    {
     "name": "stdout",
     "output_type": "stream",
     "text": [
      "\n",
      "element lenghts:\n",
      "array([       nan, 1.        , 1.        , 1.41421356, 1.41421356,\n",
      "       1.        , 1.        ])\n",
      "\n",
      "element cosines\n",
      "array([[        nan,         nan,         nan],\n",
      "       [        nan,  1.        ,  0.        ],\n",
      "       [        nan,  0.        ,  1.        ],\n",
      "       [        nan,  0.70710678,  0.70710678],\n",
      "       [        nan, -0.70710678,  0.70710678],\n",
      "       [        nan,  0.        ,  1.        ],\n",
      "       [        nan,  1.        ,  0.        ]])\n"
     ]
    }
   ],
   "source": [
    "def compute_lengths_and_cosines(elements: np.ndarray, nodes: np.ndarray) -> Tuple[np.ndarray, np.ndarray]:\n",
    "    # get each element's 1st nodes\n",
    "    node_1 = elements[1:, 1].astype(int)\n",
    "    # get each element's 2nd nodes\n",
    "    node_2 = elements[1:, 2].astype(int)\n",
    "\n",
    "    # get coordinates of 1st nodes\n",
    "    node_1_coordinates = nodes[node_1, 1:]\n",
    "    # get coordinates of 2nd nodes\n",
    "    node_2_coordinates = nodes[node_2, 1:]\n",
    "    \n",
    "    # compute change in coordinates for each positions.\n",
    "    coordinate_displacements = node_2_coordinates - node_1_coordinates\n",
    "\n",
    "    # for each element, compute length:\n",
    "    element_lengths = np.linalg.norm(coordinate_displacements, axis=1)\n",
    "\n",
    "    # for each element, compute element cosines\n",
    "    element_cosines = coordinate_displacements / element_lengths.reshape(len(elements)-1, 1)\n",
    "\n",
    "    # again, add an extra row to both lengths and cosine matrix to accomodate 1-based indexing:\n",
    "    element_lengths = np.pad(element_lengths, (1,0), 'constant', constant_values=np.nan)\n",
    "    element_cosines = np.pad(element_cosines, ((1,0), (1,0)), 'constant', constant_values=np.nan)\n",
    "\n",
    "    return element_lengths, element_cosines\n",
    "\n",
    "lengths, cosines = compute_lengths_and_cosines(element, node)\n",
    "\n",
    "print(\"\\nelement lenghts:\")\n",
    "pprint(lengths)\n",
    "print(\"\\nelement cosines\")\n",
    "pprint(cosines)\n"
   ]
  },
  {
   "cell_type": "markdown",
   "metadata": {},
   "source": [
    "### \"Forces\" File"
   ]
  },
  {
   "cell_type": "code",
   "execution_count": 92,
   "metadata": {},
   "outputs": [
    {
     "name": "stdout",
     "output_type": "stream",
     "text": [
      "\n",
      "Num of Force BCs: 1\n",
      "Node #, DOF #, Value:\n",
      "array([[ 2.,  2., -1.]])\n"
     ]
    }
   ],
   "source": [
    "def read_forces_file(filepath: str = 'inputs/forces') -> Tuple[np.ndarray, int]:\n",
    "   # Read the first linee manually\n",
    "    with open(filepath, 'r') as file:\n",
    "        num_force_BCs = int(file.readline().strip())\n",
    "    # Read the rest of the file (starting from the third line)\n",
    "    force_file = pd.read_csv(filepath, sep=r'\\s+', header=None, skiprows=1)\n",
    "    # Convert to numpy array\n",
    "    forces = force_file.to_numpy()\n",
    "\n",
    "    return forces, num_force_BCs\n",
    "\n",
    "force_BCs, num_force_BCs = read_forces_file('test_cases_2d/forces')\n",
    "\n",
    "print(f\"\\nNum of Force BCs: {num_force_BCs}\")\n",
    "print(\"Node #, DOF #, Value:\")\n",
    "pprint(force_BCs)"
   ]
  },
  {
   "cell_type": "markdown",
   "metadata": {},
   "source": [
    "### \"Displacements\" File\n"
   ]
  },
  {
   "cell_type": "code",
   "execution_count": 93,
   "metadata": {},
   "outputs": [
    {
     "name": "stdout",
     "output_type": "stream",
     "text": [
      "\n",
      "Num of Displacement BCs: 4\n",
      "Node #, DOF #, Value:\n",
      "array([[1., 1., 0.],\n",
      "       [3., 1., 0.],\n",
      "       [3., 2., 0.],\n",
      "       [4., 1., 1.]])\n"
     ]
    }
   ],
   "source": [
    "def read_displacements_file(filepath: str = 'inputs/displacements') -> Tuple[np.ndarray, int]:\n",
    "   # Read the first linee manually\n",
    "    with open(filepath, 'r') as file:\n",
    "        num_displacement_BCs = int(file.readline().strip())\n",
    "    # Read the rest of the file (starting from the third line)\n",
    "    displacement_file = pd.read_csv(filepath, sep=r'\\s+', header=None, skiprows=1)\n",
    "    # Convert to numpy array\n",
    "    displacements = displacement_file.to_numpy()\n",
    "\n",
    "    return displacements, num_displacement_BCs\n",
    "\n",
    "displacement_BCs, num_displacement_BCs = read_forces_file('test_cases_2d/displacements')\n",
    "\n",
    "print(f\"\\nNum of Displacement BCs: {num_displacement_BCs}\")\n",
    "print(\"Node #, DOF #, Value:\")\n",
    "pprint(displacement_BCs)"
   ]
  },
  {
   "cell_type": "markdown",
   "metadata": {},
   "source": [
    "### Stiffness and RHS Force Vector"
   ]
  },
  {
   "cell_type": "code",
   "execution_count": 99,
   "metadata": {},
   "outputs": [
    {
     "name": "stdout",
     "output_type": "stream",
     "text": [
      "\n",
      "K matrix\n",
      "[[0. 0. 0. 0. 0. 0. 0. 0. 0.]\n",
      " [0. 0. 0. 0. 0. 0. 0. 0. 0.]\n",
      " [0. 0. 0. 0. 0. 0. 0. 0. 0.]\n",
      " [0. 0. 0. 0. 0. 0. 0. 0. 0.]\n",
      " [0. 0. 0. 0. 0. 0. 0. 0. 0.]\n",
      " [0. 0. 0. 0. 0. 0. 0. 0. 0.]\n",
      " [0. 0. 0. 0. 0. 0. 0. 0. 0.]\n",
      " [0. 0. 0. 0. 0. 0. 0. 0. 0.]\n",
      " [0. 0. 0. 0. 0. 0. 0. 0. 0.]]\n",
      "RHS Force vector:\n",
      "[[0.]\n",
      " [0.]\n",
      " [0.]\n",
      " [0.]\n",
      " [0.]\n",
      " [0.]\n",
      " [0.]\n",
      " [0.]\n",
      " [0.]]\n"
     ]
    }
   ],
   "source": [
    "# initilize an empty K matrix:\n",
    "stiffness_matrix = np.zeros(shape=(total_num_dofs+1,total_num_dofs+1), dtype=float) # one more for 1 based indexing\n",
    "# initialize an empty Force vector:\n",
    "external_forces = np.zeros(shape=(total_num_dofs+1, 1), dtype=float)\n",
    "\n",
    "print(\"\\nK matrix\")\n",
    "print(stiffness_matrix)\n",
    "print(\"RHS Force vector:\")\n",
    "print(external_forces)"
   ]
  },
  {
   "cell_type": "code",
   "execution_count": null,
   "metadata": {},
   "outputs": [],
   "source": []
  }
 ],
 "metadata": {
  "kernelspec": {
   "display_name": "base",
   "language": "python",
   "name": "python3"
  },
  "language_info": {
   "codemirror_mode": {
    "name": "ipython",
    "version": 3
   },
   "file_extension": ".py",
   "mimetype": "text/x-python",
   "name": "python",
   "nbconvert_exporter": "python",
   "pygments_lexer": "ipython3",
   "version": "3.11.7"
  }
 },
 "nbformat": 4,
 "nbformat_minor": 2
}
